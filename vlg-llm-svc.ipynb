{
 "cells": [
  {
   "cell_type": "code",
   "execution_count": 1,
   "id": "90dcf953",
   "metadata": {
    "_cell_guid": "b1076dfc-b9ad-4769-8c92-a6c4dae69d19",
    "_uuid": "8f2839f25d086af736a60e9eeb907d3b93b6e0e5",
    "execution": {
     "iopub.execute_input": "2024-01-15T12:48:27.324662Z",
     "iopub.status.busy": "2024-01-15T12:48:27.324300Z",
     "iopub.status.idle": "2024-01-15T12:48:34.297504Z",
     "shell.execute_reply": "2024-01-15T12:48:34.296525Z"
    },
    "papermill": {
     "duration": 6.981633,
     "end_time": "2024-01-15T12:48:34.299860",
     "exception": false,
     "start_time": "2024-01-15T12:48:27.318227",
     "status": "completed"
    },
    "tags": []
   },
   "outputs": [],
   "source": [
    "import numpy as np\n",
    "import re\n",
    "import pandas as pd\n",
    "import spacy\n",
    "import string\n",
    "from sklearn.model_selection import train_test_split, StratifiedKFold, GridSearchCV\n",
    "from sklearn.feature_extraction.text import TfidfVectorizer\n",
    "from sklearn.svm import SVC\n",
    "from sklearn.metrics import accuracy_score\n",
    "from sklearn.utils import shuffle\n",
    "import nltk\n",
    "import matplotlib.pyplot as plt\n",
    "from sklearn.metrics import roc_curve, auc\n",
    "import seaborn as sns"
   ]
  },
  {
   "cell_type": "code",
   "execution_count": 2,
   "id": "07ee62ef",
   "metadata": {
    "execution": {
     "iopub.execute_input": "2024-01-15T12:48:34.309917Z",
     "iopub.status.busy": "2024-01-15T12:48:34.309350Z",
     "iopub.status.idle": "2024-01-15T12:48:34.314185Z",
     "shell.execute_reply": "2024-01-15T12:48:34.313120Z"
    },
    "papermill": {
     "duration": 0.011928,
     "end_time": "2024-01-15T12:48:34.316080",
     "exception": false,
     "start_time": "2024-01-15T12:48:34.304152",
     "status": "completed"
    },
    "tags": []
   },
   "outputs": [],
   "source": [
    "nltk.data.path.append(\"/kaggle/input/nltk-data/nltk-data\")"
   ]
  },
  {
   "cell_type": "code",
   "execution_count": 3,
   "id": "09e04e8d",
   "metadata": {
    "execution": {
     "iopub.execute_input": "2024-01-15T12:48:34.325431Z",
     "iopub.status.busy": "2024-01-15T12:48:34.325027Z",
     "iopub.status.idle": "2024-01-15T12:48:34.448606Z",
     "shell.execute_reply": "2024-01-15T12:48:34.447311Z"
    },
    "papermill": {
     "duration": 0.130416,
     "end_time": "2024-01-15T12:48:34.450332",
     "exception": false,
     "start_time": "2024-01-15T12:48:34.319916",
     "status": "completed"
    },
    "tags": []
   },
   "outputs": [
    {
     "data": {
      "text/html": [
       "<div>\n",
       "<style scoped>\n",
       "    .dataframe tbody tr th:only-of-type {\n",
       "        vertical-align: middle;\n",
       "    }\n",
       "\n",
       "    .dataframe tbody tr th {\n",
       "        vertical-align: top;\n",
       "    }\n",
       "\n",
       "    .dataframe thead th {\n",
       "        text-align: right;\n",
       "    }\n",
       "</style>\n",
       "<table border=\"1\" class=\"dataframe\">\n",
       "  <thead>\n",
       "    <tr style=\"text-align: right;\">\n",
       "      <th></th>\n",
       "      <th>id</th>\n",
       "      <th>prompt_id</th>\n",
       "      <th>text</th>\n",
       "      <th>generated</th>\n",
       "    </tr>\n",
       "  </thead>\n",
       "  <tbody>\n",
       "    <tr>\n",
       "      <th>0</th>\n",
       "      <td>0059830c</td>\n",
       "      <td>0</td>\n",
       "      <td>Cars. Cars have been around since they became ...</td>\n",
       "      <td>0</td>\n",
       "    </tr>\n",
       "    <tr>\n",
       "      <th>1</th>\n",
       "      <td>005db917</td>\n",
       "      <td>0</td>\n",
       "      <td>Transportation is a large necessity in most co...</td>\n",
       "      <td>0</td>\n",
       "    </tr>\n",
       "    <tr>\n",
       "      <th>2</th>\n",
       "      <td>008f63e3</td>\n",
       "      <td>0</td>\n",
       "      <td>\"America's love affair with it's vehicles seem...</td>\n",
       "      <td>0</td>\n",
       "    </tr>\n",
       "    <tr>\n",
       "      <th>3</th>\n",
       "      <td>00940276</td>\n",
       "      <td>0</td>\n",
       "      <td>How often do you ride in a car? Do you drive a...</td>\n",
       "      <td>0</td>\n",
       "    </tr>\n",
       "    <tr>\n",
       "      <th>4</th>\n",
       "      <td>00c39458</td>\n",
       "      <td>0</td>\n",
       "      <td>Cars are a wonderful thing. They are perhaps o...</td>\n",
       "      <td>0</td>\n",
       "    </tr>\n",
       "    <tr>\n",
       "      <th>...</th>\n",
       "      <td>...</td>\n",
       "      <td>...</td>\n",
       "      <td>...</td>\n",
       "      <td>...</td>\n",
       "    </tr>\n",
       "    <tr>\n",
       "      <th>1373</th>\n",
       "      <td>fe6ff9a5</td>\n",
       "      <td>1</td>\n",
       "      <td>There has been a fuss about the Elector Colleg...</td>\n",
       "      <td>0</td>\n",
       "    </tr>\n",
       "    <tr>\n",
       "      <th>1374</th>\n",
       "      <td>ff669174</td>\n",
       "      <td>0</td>\n",
       "      <td>Limiting car usage has many advantages. Such a...</td>\n",
       "      <td>0</td>\n",
       "    </tr>\n",
       "    <tr>\n",
       "      <th>1375</th>\n",
       "      <td>ffa247e0</td>\n",
       "      <td>0</td>\n",
       "      <td>There's a new trend that has been developing f...</td>\n",
       "      <td>0</td>\n",
       "    </tr>\n",
       "    <tr>\n",
       "      <th>1376</th>\n",
       "      <td>ffc237e9</td>\n",
       "      <td>0</td>\n",
       "      <td>As we all know cars are a big part of our soci...</td>\n",
       "      <td>0</td>\n",
       "    </tr>\n",
       "    <tr>\n",
       "      <th>1377</th>\n",
       "      <td>ffe1ca0d</td>\n",
       "      <td>0</td>\n",
       "      <td>Cars have been around since the 1800's and hav...</td>\n",
       "      <td>0</td>\n",
       "    </tr>\n",
       "  </tbody>\n",
       "</table>\n",
       "<p>1378 rows × 4 columns</p>\n",
       "</div>"
      ],
      "text/plain": [
       "            id  prompt_id                                               text  \\\n",
       "0     0059830c          0  Cars. Cars have been around since they became ...   \n",
       "1     005db917          0  Transportation is a large necessity in most co...   \n",
       "2     008f63e3          0  \"America's love affair with it's vehicles seem...   \n",
       "3     00940276          0  How often do you ride in a car? Do you drive a...   \n",
       "4     00c39458          0  Cars are a wonderful thing. They are perhaps o...   \n",
       "...        ...        ...                                                ...   \n",
       "1373  fe6ff9a5          1  There has been a fuss about the Elector Colleg...   \n",
       "1374  ff669174          0  Limiting car usage has many advantages. Such a...   \n",
       "1375  ffa247e0          0  There's a new trend that has been developing f...   \n",
       "1376  ffc237e9          0  As we all know cars are a big part of our soci...   \n",
       "1377  ffe1ca0d          0  Cars have been around since the 1800's and hav...   \n",
       "\n",
       "      generated  \n",
       "0             0  \n",
       "1             0  \n",
       "2             0  \n",
       "3             0  \n",
       "4             0  \n",
       "...         ...  \n",
       "1373          0  \n",
       "1374          0  \n",
       "1375          0  \n",
       "1376          0  \n",
       "1377          0  \n",
       "\n",
       "[1378 rows x 4 columns]"
      ]
     },
     "metadata": {},
     "output_type": "display_data"
    },
    {
     "data": {
      "text/html": [
       "<div>\n",
       "<style scoped>\n",
       "    .dataframe tbody tr th:only-of-type {\n",
       "        vertical-align: middle;\n",
       "    }\n",
       "\n",
       "    .dataframe tbody tr th {\n",
       "        vertical-align: top;\n",
       "    }\n",
       "\n",
       "    .dataframe thead th {\n",
       "        text-align: right;\n",
       "    }\n",
       "</style>\n",
       "<table border=\"1\" class=\"dataframe\">\n",
       "  <thead>\n",
       "    <tr style=\"text-align: right;\">\n",
       "      <th></th>\n",
       "      <th>id</th>\n",
       "      <th>prompt_id</th>\n",
       "      <th>text</th>\n",
       "      <th>generated</th>\n",
       "    </tr>\n",
       "  </thead>\n",
       "  <tbody>\n",
       "    <tr>\n",
       "      <th>704</th>\n",
       "      <td>82131f68</td>\n",
       "      <td>1</td>\n",
       "      <td>This essay will analyze, discuss and prove one...</td>\n",
       "      <td>1</td>\n",
       "    </tr>\n",
       "    <tr>\n",
       "      <th>740</th>\n",
       "      <td>86fe4f18</td>\n",
       "      <td>1</td>\n",
       "      <td>I strongly believe that the Electoral College ...</td>\n",
       "      <td>1</td>\n",
       "    </tr>\n",
       "    <tr>\n",
       "      <th>1262</th>\n",
       "      <td>eafb8a56</td>\n",
       "      <td>0</td>\n",
       "      <td>Limiting car use causes pollution, increases c...</td>\n",
       "      <td>1</td>\n",
       "    </tr>\n",
       "  </tbody>\n",
       "</table>\n",
       "</div>"
      ],
      "text/plain": [
       "            id  prompt_id                                               text  \\\n",
       "704   82131f68          1  This essay will analyze, discuss and prove one...   \n",
       "740   86fe4f18          1  I strongly believe that the Electoral College ...   \n",
       "1262  eafb8a56          0  Limiting car use causes pollution, increases c...   \n",
       "\n",
       "      generated  \n",
       "704           1  \n",
       "740           1  \n",
       "1262          1  "
      ]
     },
     "execution_count": 3,
     "metadata": {},
     "output_type": "execute_result"
    }
   ],
   "source": [
    "train_essays_df = pd.read_csv(\"/kaggle/input/llm-detect-ai-generated-text/train_essays.csv\")\n",
    "display(train_essays_df)\n",
    "\n",
    "train_essays_df['generated'].value_counts()\n",
    "\n",
    "train_essays_df[train_essays_df['generated']==1]"
   ]
  },
  {
   "cell_type": "code",
   "execution_count": 4,
   "id": "87527c2c",
   "metadata": {
    "execution": {
     "iopub.execute_input": "2024-01-15T12:48:34.460497Z",
     "iopub.status.busy": "2024-01-15T12:48:34.459949Z",
     "iopub.status.idle": "2024-01-15T12:48:35.322736Z",
     "shell.execute_reply": "2024-01-15T12:48:35.322056Z"
    },
    "papermill": {
     "duration": 0.870236,
     "end_time": "2024-01-15T12:48:35.324903",
     "exception": false,
     "start_time": "2024-01-15T12:48:34.454667",
     "status": "completed"
    },
    "tags": []
   },
   "outputs": [
    {
     "name": "stdout",
     "output_type": "stream",
     "text": [
      "{'go', 'two', 'whereby', 'however', 'due', 'we', 'anyone', 'perhaps', 'twelve', '’ll', 'latter', 'me', \"'m\", 'anywhere', 'part', 'hereafter', 'our', 'various', 'mostly', 'using', 'should', 'formerly', 'somehow', 'amongst', 'of', \"'re\", \"'ll\", 'from', 'became', 'neither', 'only', 'serious', 'thereupon', 'is', 'could', 'has', 'in', 'him', 'my', 'others', 'myself', 'how', 'with', 'per', 'were', 'alone', 'one', 'something', 'more', 'might', 'can', 'everything', 'himself', 'both', 'eleven', 'this', 'hundred', 'at', 'former', 'none', 'behind', '‘ve', 'their', 'still', 'someone', 'its', 'together', 'yourselves', 'then', 'please', 'be', 'what', 'those', 'front', 'along', 'across', 'by', 'whatever', 'through', 'already', 'below', '‘re', 'i', 'hereby', 'n‘t', 'ours', 'thereafter', 'within', 'meanwhile', 'whereas', 'really', 'on', 'though', 'three', 'back', 'must', 'thus', 'as', 'these', 'ourselves', 'itself', 'anything', 'become', 'hereupon', 'once', 'when', 'either', 'almost', 'may', 'towards', 'there', 'without', 'forty', 'four', 'had', 'put', 'hence', 'whose', 'did', 'often', 'somewhere', 'top', 'why', 'also', 'seems', 'for', 'nowhere', 'since', '’re', 'would', 'done', 'enough', 'empty', 'unless', 'into', 'every', 'do', 'elsewhere', 'call', '‘d', 'although', 'who', 'above', 'anyway', 'whoever', 'quite', 'move', 'again', 'few', 'many', 'us', 'seemed', 'just', 'nobody', 'make', 'too', \"'s\", 'among', 'fifty', 'whole', 'next', 'eight', 'whether', 'made', 'becomes', 'nor', 'becoming', 'over', 'she', 'your', 'now', 'whereafter', 'will', 'name', 'same', 'keep', 'less', 'while', 'around', 'otherwise', 'after', 'her', 'hers', '’s', 'twenty', 'afterwards', '’m', 'doing', 'used', 'where', 'give', 'out', 'not', 'show', 'therein', 'yourself', 'beside', 'much', 'else', 'least', 'therefore', 'to', 'upon', '‘ll', 'anyhow', 'nothing', 'yours', 'first', 'he', 'say', 'moreover', 'that', 'get', 'toward', 'some', 'yet', 'any', 'own', 'take', 'you', 'regarding', 'onto', 'rather', 'if', 'whither', 'via', 'very', 'nevertheless', 'been', 'even', '’ve', 'which', 'six', 'everywhere', '‘s', 'all', 'them', 'cannot', 'n’t', \"'d\", 're', 'other', 'under', 'his', 'a', 'nine', 'side', 'whereupon', 'here', 'themselves', 'an', 'no', 'during', 'most', 'it', 'does', '’d', 'beyond', 'because', 'being', 'five', 'am', 'except', 'ten', \"n't\", 'such', 'besides', 'wherever', 'are', 'namely', 'they', 'full', 'sometime', 'against', 'latterly', 'third', 'wherein', 'down', 'thereby', 'so', 'until', 'than', 'everyone', \"'ve\", 'about', 'up', 'further', '‘m', 'and', 'noone', 'fifteen', 'was', 'beforehand', 'off', 'amount', 'always', 'well', 'bottom', 'another', 'thru', 'whenever', 'herein', 'seeming', 'whom', 'herself', 'throughout', 'never', 'sixty', 'indeed', 'last', 'but', 'have', 'see', 'whence', 'ever', 'the', 'ca', 'or', 'mine', 'thence', 'between', 'sometimes', 'several', 'each', 'before', 'seem'}\n",
      "!\"#$%&'()*+,-./:;<=>?@[\\]^_`{|}~\n"
     ]
    }
   ],
   "source": [
    "nlp = spacy.load(\"en_core_web_sm\")\n",
    "stop_words = nlp.Defaults.stop_words\n",
    "punctuations = string.punctuation\n",
    "print(stop_words)\n",
    "print(punctuations)"
   ]
  },
  {
   "cell_type": "code",
   "execution_count": 5,
   "id": "cbe17b0d",
   "metadata": {
    "execution": {
     "iopub.execute_input": "2024-01-15T12:48:35.335984Z",
     "iopub.status.busy": "2024-01-15T12:48:35.334836Z",
     "iopub.status.idle": "2024-01-15T12:48:35.340037Z",
     "shell.execute_reply": "2024-01-15T12:48:35.339165Z"
    },
    "papermill": {
     "duration": 0.012394,
     "end_time": "2024-01-15T12:48:35.342068",
     "exception": false,
     "start_time": "2024-01-15T12:48:35.329674",
     "status": "completed"
    },
    "tags": []
   },
   "outputs": [],
   "source": [
    "def clean_text(text):\n",
    "    doc = nlp(text.lower().strip())\n",
    "    tokens = [word.lemma_ for word in doc if word.text not in stop_words and word.text not in punctuations]\n",
    "    return \" \".join(tokens)"
   ]
  },
  {
   "cell_type": "code",
   "execution_count": 6,
   "id": "de799d80",
   "metadata": {
    "execution": {
     "iopub.execute_input": "2024-01-15T12:48:35.352420Z",
     "iopub.status.busy": "2024-01-15T12:48:35.352062Z",
     "iopub.status.idle": "2024-01-15T12:50:10.247398Z",
     "shell.execute_reply": "2024-01-15T12:50:10.246419Z"
    },
    "papermill": {
     "duration": 94.90267,
     "end_time": "2024-01-15T12:50:10.249553",
     "exception": false,
     "start_time": "2024-01-15T12:48:35.346883",
     "status": "completed"
    },
    "tags": []
   },
   "outputs": [],
   "source": [
    "train_essays_df['cleaned_text'] = train_essays_df['text'].apply(clean_text)"
   ]
  },
  {
   "cell_type": "code",
   "execution_count": 7,
   "id": "3aec030f",
   "metadata": {
    "execution": {
     "iopub.execute_input": "2024-01-15T12:50:10.260683Z",
     "iopub.status.busy": "2024-01-15T12:50:10.259745Z",
     "iopub.status.idle": "2024-01-15T12:50:11.116437Z",
     "shell.execute_reply": "2024-01-15T12:50:11.115499Z"
    },
    "papermill": {
     "duration": 0.864598,
     "end_time": "2024-01-15T12:50:11.118764",
     "exception": false,
     "start_time": "2024-01-15T12:50:10.254166",
     "status": "completed"
    },
    "tags": []
   },
   "outputs": [],
   "source": [
    "X = train_essays_df['cleaned_text']\n",
    "y = train_essays_df['generated']\n",
    "tfidf = TfidfVectorizer(max_features=5000, min_df=3, max_df=0.7, ngram_range=(1, 2))\n",
    "X_tfidf = tfidf.fit_transform(X)"
   ]
  },
  {
   "cell_type": "code",
   "execution_count": 8,
   "id": "25f8c57e",
   "metadata": {
    "execution": {
     "iopub.execute_input": "2024-01-15T12:50:11.129833Z",
     "iopub.status.busy": "2024-01-15T12:50:11.129449Z",
     "iopub.status.idle": "2024-01-15T12:50:11.135803Z",
     "shell.execute_reply": "2024-01-15T12:50:11.134985Z"
    },
    "papermill": {
     "duration": 0.01364,
     "end_time": "2024-01-15T12:50:11.137550",
     "exception": false,
     "start_time": "2024-01-15T12:50:11.123910",
     "status": "completed"
    },
    "tags": []
   },
   "outputs": [],
   "source": [
    "X_tfidf_shuffled, y_shuffled = shuffle(X_tfidf, y, random_state=42)"
   ]
  },
  {
   "cell_type": "code",
   "execution_count": 9,
   "id": "eb25d1b6",
   "metadata": {
    "execution": {
     "iopub.execute_input": "2024-01-15T12:50:11.147836Z",
     "iopub.status.busy": "2024-01-15T12:50:11.147453Z",
     "iopub.status.idle": "2024-01-15T12:50:11.366334Z",
     "shell.execute_reply": "2024-01-15T12:50:11.365244Z"
    },
    "papermill": {
     "duration": 0.226287,
     "end_time": "2024-01-15T12:50:11.368233",
     "exception": false,
     "start_time": "2024-01-15T12:50:11.141946",
     "status": "completed"
    },
    "tags": []
   },
   "outputs": [
    {
     "data": {
      "image/png": "[encoded data removed]",
      "text/plain": [
       "<Figure size 640x480 with 1 Axes>"
      ]
     },
     "metadata": {},
     "output_type": "display_data"
    }
   ],
   "source": [
    "train_essays_df['generated'].value_counts().plot(kind='bar', title='Class Distribution')\n",
    "plt.show()"
   ]
  },
  {
   "cell_type": "code",
   "execution_count": 10,
   "id": "c92eaa37",
   "metadata": {
    "execution": {
     "iopub.execute_input": "2024-01-15T12:50:11.379076Z",
     "iopub.status.busy": "2024-01-15T12:50:11.378684Z",
     "iopub.status.idle": "2024-01-15T12:50:11.633458Z",
     "shell.execute_reply": "2024-01-15T12:50:11.632573Z"
    },
    "papermill": {
     "duration": 0.262637,
     "end_time": "2024-01-15T12:50:11.635630",
     "exception": false,
     "start_time": "2024-01-15T12:50:11.372993",
     "status": "completed"
    },
    "tags": []
   },
   "outputs": [
    {
     "data": {
      "image/png": "[encoded data removed]",
      "text/plain": [
       "<Figure size 640x480 with 1 Axes>"
      ]
     },
     "metadata": {},
     "output_type": "display_data"
    }
   ],
   "source": [
    "train_essays_df['cleaned_text'].apply(len).plot(kind='hist', bins=50, title='Cleaned Text Length Distribution')\n",
    "plt.xlabel('Text Length')\n",
    "plt.ylabel('Frequency')\n",
    "plt.show()"
   ]
  },
  {
   "cell_type": "code",
   "execution_count": 11,
   "id": "9d699bc3",
   "metadata": {
    "execution": {
     "iopub.execute_input": "2024-01-15T12:50:11.647223Z",
     "iopub.status.busy": "2024-01-15T12:50:11.646883Z",
     "iopub.status.idle": "2024-01-15T12:50:31.600592Z",
     "shell.execute_reply": "2024-01-15T12:50:31.599533Z"
    },
    "papermill": {
     "duration": 19.961971,
     "end_time": "2024-01-15T12:50:31.602752",
     "exception": false,
     "start_time": "2024-01-15T12:50:11.640781",
     "status": "completed"
    },
    "tags": []
   },
   "outputs": [
    {
     "name": "stderr",
     "output_type": "stream",
     "text": [
      "/opt/conda/lib/python3.10/site-packages/sklearn/model_selection/_split.py:700: UserWarning: The least populated class in y has only 3 members, which is less than n_splits=5.\n",
      "  warnings.warn(\n"
     ]
    },
    {
     "name": "stdout",
     "output_type": "stream",
     "text": [
      "Best Parameters: {'C': 1, 'kernel': 'linear'}\n"
     ]
    }
   ],
   "source": [
    "model = SVC(probability=True)\n",
    "parameters = {'kernel':('linear', 'rbf'), 'C':[1, 10]}\n",
    "clf = GridSearchCV(model, parameters, cv=5)\n",
    "\n",
    "# Fit and Tune Model\n",
    "clf.fit(X_tfidf_shuffled, y_shuffled)\n",
    "print(\"Best Parameters:\", clf.best_params_)"
   ]
  },
  {
   "cell_type": "code",
   "execution_count": 12,
   "id": "65b3d55a",
   "metadata": {
    "execution": {
     "iopub.execute_input": "2024-01-15T12:50:31.614392Z",
     "iopub.status.busy": "2024-01-15T12:50:31.614052Z",
     "iopub.status.idle": "2024-01-15T12:50:31.861513Z",
     "shell.execute_reply": "2024-01-15T12:50:31.860522Z"
    },
    "papermill": {
     "duration": 0.255445,
     "end_time": "2024-01-15T12:50:31.863394",
     "exception": false,
     "start_time": "2024-01-15T12:50:31.607949",
     "status": "completed"
    },
    "tags": []
   },
   "outputs": [
    {
     "data": {
      "image/png": "[encoded data removed]",
      "text/plain": [
       "<Figure size 1000x600 with 2 Axes>"
      ]
     },
     "metadata": {},
     "output_type": "display_data"
    }
   ],
   "source": [
    "cv_results = pd.DataFrame(clf.cv_results_)\n",
    "plt.figure(figsize=(10, 6))\n",
    "sns.heatmap(pd.pivot_table(cv_results, values='mean_test_score', index='param_C', columns='param_kernel'), annot=True)\n",
    "plt.title('Grid Search Mean Test Scores')\n",
    "plt.show()"
   ]
  },
  {
   "cell_type": "code",
   "execution_count": 13,
   "id": "28b3c130",
   "metadata": {
    "execution": {
     "iopub.execute_input": "2024-01-15T12:50:31.876323Z",
     "iopub.status.busy": "2024-01-15T12:50:31.875404Z",
     "iopub.status.idle": "2024-01-15T12:50:34.936859Z",
     "shell.execute_reply": "2024-01-15T12:50:34.935997Z"
    },
    "papermill": {
     "duration": 3.069577,
     "end_time": "2024-01-15T12:50:34.938594",
     "exception": false,
     "start_time": "2024-01-15T12:50:31.869017",
     "status": "completed"
    },
    "tags": []
   },
   "outputs": [
    {
     "name": "stderr",
     "output_type": "stream",
     "text": [
      "/opt/conda/lib/python3.10/site-packages/sklearn/model_selection/_split.py:700: UserWarning: The least populated class in y has only 3 members, which is less than n_splits=5.\n",
      "  warnings.warn(\n"
     ]
    },
    {
     "name": "stdout",
     "output_type": "stream",
     "text": [
      "Average accuracy: 0.9978260869565216\n"
     ]
    }
   ],
   "source": [
    "skf = StratifiedKFold(n_splits=5)\n",
    "accuracies = []\n",
    "for train_index, test_index in skf.split(X_tfidf_shuffled, y_shuffled):\n",
    "    X_train, X_test = X_tfidf_shuffled[train_index], X_tfidf_shuffled[test_index]\n",
    "    y_train, y_test = y_shuffled.iloc[train_index], y_shuffled.iloc[test_index]\n",
    "\n",
    "    model.set_params(**clf.best_params_)\n",
    "    model.fit(X_train, y_train)\n",
    "    y_pred = model.predict(X_test)\n",
    "    accuracies.append(accuracy_score(y_test, y_pred))\n",
    "\n",
    "print(\"Average accuracy:\", np.mean(accuracies))"
   ]
  },
  {
   "cell_type": "code",
   "execution_count": 14,
   "id": "0954242e",
   "metadata": {
    "execution": {
     "iopub.execute_input": "2024-01-15T12:50:34.951837Z",
     "iopub.status.busy": "2024-01-15T12:50:34.951500Z",
     "iopub.status.idle": "2024-01-15T12:50:34.979086Z",
     "shell.execute_reply": "2024-01-15T12:50:34.977853Z"
    },
    "papermill": {
     "duration": 0.036606,
     "end_time": "2024-01-15T12:50:34.981279",
     "exception": false,
     "start_time": "2024-01-15T12:50:34.944673",
     "status": "completed"
    },
    "tags": []
   },
   "outputs": [],
   "source": [
    "test_df = pd.read_csv('/kaggle/input/llm-detect-ai-generated-text/test_essays.csv')\n",
    "test_df['cleaned_text'] = test_df['text'].apply(clean_text)\n",
    "test_tfidf = tfidf.transform(test_df['cleaned_text'])"
   ]
  },
  {
   "cell_type": "code",
   "execution_count": 15,
   "id": "4ea1c1d0",
   "metadata": {
    "execution": {
     "iopub.execute_input": "2024-01-15T12:50:34.994556Z",
     "iopub.status.busy": "2024-01-15T12:50:34.994197Z",
     "iopub.status.idle": "2024-01-15T12:50:35.376142Z",
     "shell.execute_reply": "2024-01-15T12:50:35.374933Z"
    },
    "papermill": {
     "duration": 0.390978,
     "end_time": "2024-01-15T12:50:35.378068",
     "exception": false,
     "start_time": "2024-01-15T12:50:34.987090",
     "status": "completed"
    },
    "tags": []
   },
   "outputs": [
    {
     "data": {
      "image/png": "[encoded data removed]",
      "text/plain": [
       "<Figure size 800x800 with 1 Axes>"
      ]
     },
     "metadata": {},
     "output_type": "display_data"
    }
   ],
   "source": [
    "y_probs = model.predict_proba(X_tfidf_shuffled)[:, 1]\n",
    "fpr, tpr, thresholds = roc_curve(y_shuffled, y_probs)\n",
    "roc_auc = auc(fpr, tpr)\n",
    "\n",
    "plt.figure(figsize=(8, 8))\n",
    "plt.plot(fpr, tpr, color='darkorange', lw=2, label=f'ROC curve (area = {roc_auc:.2f})')\n",
    "plt.plot([0, 1], [0, 1], color='navy', lw=2, linestyle='--')\n",
    "plt.xlabel('False Positive Rate')\n",
    "plt.ylabel('True Positive Rate')\n",
    "plt.title('Receiver Operating Characteristic (ROC) Curve')\n",
    "plt.legend(loc='lower right')\n",
    "plt.show()"
   ]
  },
  {
   "cell_type": "code",
   "execution_count": 16,
   "id": "ee5ca2c3",
   "metadata": {
    "execution": {
     "iopub.execute_input": "2024-01-15T12:50:35.393561Z",
     "iopub.status.busy": "2024-01-15T12:50:35.392504Z",
     "iopub.status.idle": "2024-01-15T12:50:35.416154Z",
     "shell.execute_reply": "2024-01-15T12:50:35.415129Z"
    },
    "papermill": {
     "duration": 0.033266,
     "end_time": "2024-01-15T12:50:35.418133",
     "exception": false,
     "start_time": "2024-01-15T12:50:35.384867",
     "status": "completed"
    },
    "tags": []
   },
   "outputs": [],
   "source": [
    "submit = pd.read_csv('/kaggle/input/llm-detect-ai-generated-text/sample_submission.csv')\n",
    "submit['generated'] = model.predict_proba(test_tfidf)[:,1]\n",
    "\n",
    "submit.to_csv('submission.csv', index=False)"
   ]
  },
  {
   "cell_type": "code",
   "execution_count": 17,
   "id": "b4f70b8c",
   "metadata": {
    "execution": {
     "iopub.execute_input": "2024-01-15T12:50:35.431667Z",
     "iopub.status.busy": "2024-01-15T12:50:35.431303Z",
     "iopub.status.idle": "2024-01-15T12:50:35.441222Z",
     "shell.execute_reply": "2024-01-15T12:50:35.440273Z"
    },
    "papermill": {
     "duration": 0.018874,
     "end_time": "2024-01-15T12:50:35.443032",
     "exception": false,
     "start_time": "2024-01-15T12:50:35.424158",
     "status": "completed"
    },
    "tags": []
   },
   "outputs": [
    {
     "data": {
      "text/html": [
       "<div>\n",
       "<style scoped>\n",
       "    .dataframe tbody tr th:only-of-type {\n",
       "        vertical-align: middle;\n",
       "    }\n",
       "\n",
       "    .dataframe tbody tr th {\n",
       "        vertical-align: top;\n",
       "    }\n",
       "\n",
       "    .dataframe thead th {\n",
       "        text-align: right;\n",
       "    }\n",
       "</style>\n",
       "<table border=\"1\" class=\"dataframe\">\n",
       "  <thead>\n",
       "    <tr style=\"text-align: right;\">\n",
       "      <th></th>\n",
       "      <th>id</th>\n",
       "      <th>generated</th>\n",
       "    </tr>\n",
       "  </thead>\n",
       "  <tbody>\n",
       "    <tr>\n",
       "      <th>0</th>\n",
       "      <td>0000aaaa</td>\n",
       "      <td>0.010518</td>\n",
       "    </tr>\n",
       "    <tr>\n",
       "      <th>1</th>\n",
       "      <td>1111bbbb</td>\n",
       "      <td>0.010518</td>\n",
       "    </tr>\n",
       "    <tr>\n",
       "      <th>2</th>\n",
       "      <td>2222cccc</td>\n",
       "      <td>0.010518</td>\n",
       "    </tr>\n",
       "  </tbody>\n",
       "</table>\n",
       "</div>"
      ],
      "text/plain": [
       "         id  generated\n",
       "0  0000aaaa   0.010518\n",
       "1  1111bbbb   0.010518\n",
       "2  2222cccc   0.010518"
      ]
     },
     "execution_count": 17,
     "metadata": {},
     "output_type": "execute_result"
    }
   ],
   "source": [
    "submit.head()"
   ]
  }
 ],
 "metadata": {
  "kaggle": {
   "accelerator": "none",
   "dataSources": [
    {
     "databundleVersionId": 6888007,
     "sourceId": 61542,
     "sourceType": "competition"
    }
   ],
   "dockerImageVersionId": 30635,
   "isGpuEnabled": false,
   "isInternetEnabled": true,
   "language": "python",
   "sourceType": "notebook"
  },
  "kernelspec": {
   "display_name": "Python 3",
   "language": "python",
   "name": "python3"
  },
  "language_info": {
   "codemirror_mode": {
    "name": "ipython",
    "version": 3
   },
   "file_extension": ".py",
   "mimetype": "text/x-python",
   "name": "python",
   "nbconvert_exporter": "python",
   "pygments_lexer": "ipython3",
   "version": "3.10.12"
  },
  "papermill": {
   "default_parameters": {},
   "duration": 131.876053,
   "end_time": "2024-01-15T12:50:36.671736",
   "environment_variables": {},
   "exception": null,
   "input_path": "__notebook__.ipynb",
   "output_path": "__notebook__.ipynb",
   "parameters": {},
   "start_time": "2024-01-15T12:48:24.795683",
   "version": "2.4.0"
  }
 },
 "nbformat": 4,
 "nbformat_minor": 5
}
